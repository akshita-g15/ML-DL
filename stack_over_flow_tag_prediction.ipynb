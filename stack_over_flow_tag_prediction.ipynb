{
  "cells": [
    {
      "cell_type": "markdown",
      "metadata": {
        "id": "fZonrJSdKIDa"
      },
      "source": [
        "### IMPORTING LIBRARIES"
      ]
    },
    {
      "cell_type": "code",
      "execution_count": null,
      "metadata": {
        "id": "ZhQQH--xKIDh"
      },
      "outputs": [],
      "source": [
        "import numpy as np\n",
        "import pandas as pd\n",
        "import string"
      ]
    },
    {
      "cell_type": "code",
      "execution_count": null,
      "metadata": {
        "colab": {
          "background_save": true
        },
        "id": "iTolEO4HLRuO"
      },
      "outputs": [],
      "source": [
        "from google.colab import drive\n",
        "drive.mount('/content/drive')"
      ]
    },
    {
      "cell_type": "markdown",
      "metadata": {
        "id": "NBlkYf5WKIDj"
      },
      "source": [
        "### READING THE DATA"
      ]
    },
    {
      "cell_type": "code",
      "execution_count": null,
      "metadata": {
        "colab": {
          "background_save": true
        },
        "id": "bRQtOSwFKIDj"
      },
      "outputs": [],
      "source": [
        "question= pd.read_csv('/content/drive/MyDrive/stackoverflow tag/Questions.csv', encoding='latin')\n",
        "tags= pd.read_csv('/content/drive/MyDrive/stackoverflow tag/Tags.csv', encoding='latin')"
      ]
    },
    {
      "cell_type": "code",
      "execution_count": null,
      "metadata": {
        "colab": {
          "background_save": true
        },
        "id": "KGadw0OHKIDk"
      },
      "outputs": [],
      "source": [
        "question.head()"
      ]
    },
    {
      "cell_type": "code",
      "execution_count": null,
      "metadata": {
        "colab": {
          "background_save": true
        },
        "id": "0GxTzjFcKIDm"
      },
      "outputs": [],
      "source": [
        "tags.head()"
      ]
    },
    {
      "cell_type": "code",
      "execution_count": null,
      "metadata": {
        "colab": {
          "background_save": true
        },
        "id": "goopBOQmKIDm"
      },
      "outputs": [],
      "source": [
        "print(question.shape,tags.shape)"
      ]
    },
    {
      "cell_type": "code",
      "execution_count": null,
      "metadata": {
        "colab": {
          "background_save": true
        },
        "id": "g3-aL_ANKIDn"
      },
      "outputs": [],
      "source": [
        "print(question.Id.nunique(), tags.Id.nunique())"
      ]
    },
    {
      "cell_type": "markdown",
      "metadata": {
        "id": "iBBQk4OJKIDp"
      },
      "source": [
        "### MERGING THE DATA FRAMES"
      ]
    },
    {
      "cell_type": "code",
      "execution_count": null,
      "metadata": {
        "colab": {
          "background_save": true
        },
        "id": "bq1LluHkKIDq"
      },
      "outputs": [],
      "source": [
        "tags['Tag']= tags['Tag'].astype(str)\n",
        "grouped_tags = pd.DataFrame(tags.groupby(\"Id\")['Tag'].apply(lambda tags: ' '.join(tags)))\n",
        "grouped_tags.columns= ['Tag']\n",
        "print(grouped_tags.head())\n",
        "grouped_tags['Tag']= grouped_tags['Tag'].astype(str)\n",
        "grouped_tags['Tag']= grouped_tags['Tag'].apply(lambda x: x.split())\n",
        "# grouped_tags= grouped_tags.to_frame()\n",
        "grouped_tags= grouped_tags.sort_values(by='Id')\n",
        "print(grouped_tags.head())"
      ]
    },
    {
      "cell_type": "code",
      "execution_count": null,
      "metadata": {
        "colab": {
          "background_save": true
        },
        "id": "BINif5eqKIDq"
      },
      "outputs": [],
      "source": [
        "print(grouped_tags.shape)"
      ]
    },
    {
      "cell_type": "markdown",
      "metadata": {
        "id": "BZ84dbtrKIDr"
      },
      "source": [
        "1. Merging Question and grouped_answer dataframes to get df\n",
        "2. Merging df and grouped_answer dataframes to get df"
      ]
    },
    {
      "cell_type": "code",
      "execution_count": null,
      "metadata": {
        "colab": {
          "background_save": true
        },
        "id": "LyqFgXRuKIDr"
      },
      "outputs": [],
      "source": [
        "grouped_tags['Ids']= grouped_tags.index\n",
        "question.columns= ['Ids', 'OwnerUserId', 'CreationDate', 'ClosedDate', 'Score', 'Title',\n",
        "       'Body']\n",
        "question= question.sort_values(by='Ids')\n",
        "df= pd.merge(question,grouped_tags,how='left',on='Ids')"
      ]
    },
    {
      "cell_type": "code",
      "execution_count": null,
      "metadata": {
        "colab": {
          "background_save": true
        },
        "id": "bIFAhEObKIDr"
      },
      "outputs": [],
      "source": [
        "df.head()"
      ]
    },
    {
      "cell_type": "markdown",
      "metadata": {
        "id": "9BJSOOqdKIDs"
      },
      "source": [
        "### REMOVING UNNECESSARY VARIABLES"
      ]
    },
    {
      "cell_type": "code",
      "execution_count": null,
      "metadata": {
        "colab": {
          "background_save": true
        },
        "id": "Wx_mR2gbKIDs"
      },
      "outputs": [],
      "source": [
        "df.drop(columns=['Ids', 'OwnerUserId', 'CreationDate', 'ClosedDate'],inplace=True)\n",
        "df.head()"
      ]
    },
    {
      "cell_type": "markdown",
      "metadata": {
        "id": "ZRTLvOUCKIDt"
      },
      "source": [
        "### FILTERING DATA BASED ON SCORE AND MOST FREQUENTLY USED TAGS"
      ]
    },
    {
      "cell_type": "code",
      "execution_count": null,
      "metadata": {
        "colab": {
          "background_save": true
        },
        "id": "2_jDj4r0KIDu"
      },
      "outputs": [],
      "source": [
        "print(df.Score.min(), df.Score.max())"
      ]
    },
    {
      "cell_type": "code",
      "execution_count": null,
      "metadata": {
        "colab": {
          "background_save": true
        },
        "id": "m_mQpT0wKIDu"
      },
      "outputs": [],
      "source": [
        "# z= df['Tag'].value_counts().sort_values(ascending=False)\n",
        "# z.index"
      ]
    },
    {
      "cell_type": "code",
      "execution_count": null,
      "metadata": {
        "colab": {
          "background_save": true
        },
        "id": "2FbaXogDKIDu"
      },
      "outputs": [],
      "source": [
        "# df1= df.groupby(by='Tag')['Tag'].count().sort_values(ascending=False).to_frame()\n",
        "# df1.columns= ['Tag_count']\n",
        "# df1['Tags']=df1.index"
      ]
    },
    {
      "cell_type": "code",
      "execution_count": null,
      "metadata": {
        "colab": {
          "background_save": true
        },
        "id": "J0S-ZORCKIDu"
      },
      "outputs": [],
      "source": [
        "# df.columns= ['Score', 'Title', 'Body', 'Tags']\n",
        "# df1= pd.merge(df,df1,how='left',on='Tags')\n",
        "# df1.head()"
      ]
    },
    {
      "cell_type": "code",
      "execution_count": null,
      "metadata": {
        "colab": {
          "background_save": true
        },
        "id": "thl_ra64KIDv"
      },
      "outputs": [],
      "source": [
        "# df1= df1[df1['Tag_count']>=500]\n",
        "df1= df[df['Score']>6]\n",
        "df1.shape"
      ]
    },
    {
      "cell_type": "markdown",
      "metadata": {
        "id": "hXNFp6aqKIDv"
      },
      "source": [
        "For better prediction we will be using only those tags which have been repeated for atleast 500 times and the score is more than 5. Low scores mean that the question is either erroneous or does not have sufficient information."
      ]
    },
    {
      "cell_type": "code",
      "execution_count": null,
      "metadata": {
        "colab": {
          "background_save": true
        },
        "id": "0uz-ma98cGbz"
      },
      "outputs": [],
      "source": [
        "type(df1['Tag'])"
      ]
    },
    {
      "cell_type": "code",
      "execution_count": null,
      "metadata": {
        "colab": {
          "background_save": true
        },
        "id": "b2IfQgyni_gv"
      },
      "outputs": [],
      "source": [
        "df1['Tag']"
      ]
    },
    {
      "cell_type": "code",
      "execution_count": null,
      "metadata": {
        "colab": {
          "background_save": true
        },
        "id": "ssCH3kqBKIDv"
      },
      "outputs": [],
      "source": [
        "# df1.Tag.value_counts().sort_values(ascending=False)"
      ]
    },
    {
      "cell_type": "markdown",
      "metadata": {
        "id": "Jpu5N13GKIDv"
      },
      "source": [
        "### CHECKING FOR MISSING VALUES"
      ]
    },
    {
      "cell_type": "code",
      "execution_count": null,
      "metadata": {
        "colab": {
          "background_save": true
        },
        "id": "tZFRKrFYKIDv"
      },
      "outputs": [],
      "source": [
        "print(df1.isnull().sum())\n",
        "\n",
        "print('Shape of df1:',df1.shape)"
      ]
    },
    {
      "cell_type": "markdown",
      "metadata": {
        "id": "W3CREyggKIDw"
      },
      "source": [
        "### CLEANING THE TEXT FOR TITLE AND BODY"
      ]
    },
    {
      "cell_type": "markdown",
      "metadata": {
        "id": "pllLeU-DKIDw"
      },
      "source": [
        "1. Removing punctuation\n",
        "2. Removing HTML tags (if required)\n",
        "3. Changing text into lowercase\n",
        "4. Splitting the text into words\n",
        "5. Removing stopwords"
      ]
    },
    {
      "cell_type": "markdown",
      "metadata": {
        "id": "v0X0CQ2YKIDx"
      },
      "source": [
        "#### PUNCTUATION & HTML TAGS REMOVAL, LOWERCASE, WORD TOKENIZATION"
      ]
    },
    {
      "cell_type": "code",
      "execution_count": null,
      "metadata": {
        "colab": {
          "background_save": true
        },
        "id": "ybiO_Q6vqMZG"
      },
      "outputs": [],
      "source": [
        "import string\n",
        "def remove_punctuation(text):\n",
        "    for punctuation in string.punctuation:\n",
        "        text= text.replace(punctuation,'')\n",
        "    return text"
      ]
    },
    {
      "cell_type": "code",
      "execution_count": null,
      "metadata": {
        "colab": {
          "background_save": true
        },
        "id": "y8VxQ2SjKIDx"
      },
      "outputs": [],
      "source": [
        "df1['Title']= df1['Title'].astype(str)\n",
        "\n",
        "df1['Title1']= df1['Title'].apply(remove_punctuation)\n",
        "df1['Title1']=df1['Title1'].str.lower()\n",
        "df1['Title1']= df1['Title1'].str.split()\n",
        "df1['Title1'].head()"
      ]
    },
    {
      "cell_type": "code",
      "execution_count": null,
      "metadata": {
        "colab": {
          "background_save": true
        },
        "id": "TkT0lyYBKIDx"
      },
      "outputs": [],
      "source": [
        "df1['Body']= df1['Body'].astype(str)\n",
        "import re\n",
        "\n",
        "df1['Body1']= df1['Body'].apply(lambda x: re.sub('<[^<]+?>','',x))\n",
        "df1['Body1'].head()"
      ]
    },
    {
      "cell_type": "code",
      "execution_count": null,
      "metadata": {
        "colab": {
          "background_save": true
        },
        "id": "sbsB4iPnKIDy"
      },
      "outputs": [],
      "source": [
        "df1['Body1']= df1['Body1'].apply(remove_punctuation)\n",
        "df1['Body1']=df1['Body1'].str.lower()\n",
        "df1['Body1']= df1['Body1'].str.split()\n",
        "df1['Body1'].head()"
      ]
    },
    {
      "cell_type": "markdown",
      "metadata": {
        "id": "kQ44suutKIDy"
      },
      "source": [
        "#### LEMMATIZATION"
      ]
    },
    {
      "cell_type": "code",
      "execution_count": null,
      "metadata": {
        "colab": {
          "background_save": true
        },
        "id": "G4AEoyjxKIDy"
      },
      "outputs": [],
      "source": [
        "import nltk\n",
        "from nltk.stem import WordNetLemmatizer\n",
        "nltk.download('wordnet')\n",
        "nltk.download('omw-1.4')\n",
        "lematizer= WordNetLemmatizer()\n",
        "\n",
        "def word_lemmatizer(text):\n",
        "    lem_text=[lematizer.lemmatize(i) for i in text]\n",
        "    return lem_text"
      ]
    },
    {
      "cell_type": "code",
      "execution_count": null,
      "metadata": {
        "colab": {
          "background_save": true
        },
        "id": "OZIsgO2pKIDz"
      },
      "outputs": [],
      "source": [
        "df1['Title1']= df1['Title1'].apply(lambda x: word_lemmatizer(x))"
      ]
    },
    {
      "cell_type": "code",
      "execution_count": null,
      "metadata": {
        "colab": {
          "background_save": true
        },
        "id": "s1ACMcDyKIDz"
      },
      "outputs": [],
      "source": [
        "df1['Body1']= df1['Body1'].apply(lambda x: word_lemmatizer(x))"
      ]
    },
    {
      "cell_type": "markdown",
      "metadata": {
        "id": "4XZemsEVKIDz"
      },
      "source": [
        "#### STOPWORD REMOVAL"
      ]
    },
    {
      "cell_type": "code",
      "execution_count": null,
      "metadata": {
        "colab": {
          "background_save": true
        },
        "id": "xBSSBhq0SFnD"
      },
      "outputs": [],
      "source": [
        "nltk.download('stopwords')\n",
        "from nltk.corpus import stopwords\n",
        "stopwords=stopwords.words('english')"
      ]
    },
    {
      "cell_type": "code",
      "execution_count": null,
      "metadata": {
        "colab": {
          "background_save": true
        },
        "id": "OXmZgnImpKEq"
      },
      "outputs": [],
      "source": [
        "df1['Body1']=df1['Body1'].apply(lambda x: \" \".join([w for w in x if w not in stopwords]))\n",
        "df1['Body1'].head(5)"
      ]
    },
    {
      "cell_type": "code",
      "execution_count": null,
      "metadata": {
        "colab": {
          "background_save": true
        },
        "id": "TinJ0v4_pJwm"
      },
      "outputs": [],
      "source": [
        "df1['Title1']=df1['Title1'].apply(lambda x: \" \".join([w for w in x if w not in stopwords]))\n",
        "df1['Title1'].head(5)"
      ]
    },
    {
      "cell_type": "markdown",
      "metadata": {
        "id": "AaqgndmMKID0"
      },
      "source": [
        "### FINAL DATAFRAME AFTER TEXT CLEANING"
      ]
    },
    {
      "cell_type": "code",
      "execution_count": null,
      "metadata": {
        "colab": {
          "background_save": true
        },
        "id": "m5CIUr2WKID0"
      },
      "outputs": [],
      "source": [
        "df1= df1.drop(['Title', 'Body','Score'],axis=1)\n",
        "df1.head()"
      ]
    },
    {
      "cell_type": "markdown",
      "metadata": {
        "id": "hFWi8UUfKID1"
      },
      "source": [
        "### TF-IDF VECTORIZATION"
      ]
    },
    {
      "cell_type": "code",
      "execution_count": null,
      "metadata": {
        "colab": {
          "background_save": true
        },
        "id": "QU7dMoxuKID1"
      },
      "outputs": [],
      "source": [
        "from sklearn.feature_extraction.text import TfidfVectorizer\n",
        "\n",
        "df1['Title1']= df1['Title1'].astype(str)\n",
        "vectorizer = TfidfVectorizer()\n",
        "X1 = vectorizer.fit_transform(df1['Title1'].str.lower())"
      ]
    },
    {
      "cell_type": "code",
      "execution_count": null,
      "metadata": {
        "colab": {
          "background_save": true
        },
        "id": "T9X3Sy-nKID1"
      },
      "outputs": [],
      "source": [
        "df1['Body1']= df1['Body1'].astype(str)\n",
        "vectorizer = TfidfVectorizer()\n",
        "X2 = vectorizer.fit_transform(df1['Body1'].str.lower())"
      ]
    },
    {
      "cell_type": "markdown",
      "metadata": {
        "id": "cGFxbzOSKID1"
      },
      "source": [
        "### CHANGING CATEGORICAL VARIABLES INTO NUMERIC"
      ]
    },
    {
      "cell_type": "code",
      "execution_count": null,
      "metadata": {
        "colab": {
          "background_save": true
        },
        "id": "8kQIG9rwKID1"
      },
      "outputs": [],
      "source": [
        "# from sklearn.preprocessing import LabelEncoder\n",
        "# le= LabelEncoder() \n",
        "# df1['Tags']= le.fit_transform(df1['Tags'])"
      ]
    },
    {
      "cell_type": "code",
      "execution_count": null,
      "metadata": {
        "colab": {
          "background_save": true
        },
        "id": "THRD058PYdB3"
      },
      "outputs": [],
      "source": [
        "from sklearn.preprocessing import MultiLabelBinarizer"
      ]
    },
    {
      "cell_type": "code",
      "execution_count": null,
      "metadata": {
        "colab": {
          "background_save": true
        },
        "id": "niUhw8oFYrZP"
      },
      "outputs": [],
      "source": [
        "multilabel= MultiLabelBinarizer()"
      ]
    },
    {
      "cell_type": "code",
      "execution_count": null,
      "metadata": {
        "colab": {
          "background_save": true
        },
        "id": "AY_ptcnwY1mD"
      },
      "outputs": [],
      "source": [
        "y= multilabel.fit_transform(df1['Tag'])"
      ]
    },
    {
      "cell_type": "code",
      "execution_count": null,
      "metadata": {
        "colab": {
          "background_save": true
        },
        "id": "OKFi0N8F__pl"
      },
      "outputs": [],
      "source": [
        "df1['Tag']"
      ]
    },
    {
      "cell_type": "code",
      "execution_count": null,
      "metadata": {
        "colab": {
          "background_save": true
        },
        "id": "kHGcCB3TRS2K"
      },
      "outputs": [],
      "source": [
        "y"
      ]
    },
    {
      "cell_type": "markdown",
      "metadata": {
        "id": "VCvXxVy7KID2"
      },
      "source": [
        "### SPLITTING THE DATASET INTO TRAIN AND TEST SET"
      ]
    },
    {
      "cell_type": "code",
      "execution_count": null,
      "metadata": {
        "colab": {
          "background_save": true
        },
        "id": "Tztn1Xpa7WjF"
      },
      "outputs": [],
      "source": [
        "y.shape"
      ]
    },
    {
      "cell_type": "code",
      "execution_count": null,
      "metadata": {
        "colab": {
          "background_save": true
        },
        "id": "bJXx0QGOKID2"
      },
      "outputs": [],
      "source": [
        "from sklearn.model_selection import train_test_split\n",
        "\n",
        "x_train, x_test, y_train, y_test = train_test_split(X2, y, test_size=0.30, random_state=42)\n",
        "print(x_train.shape, x_test.shape, y_train.shape, y_test.shape)"
      ]
    },
    {
      "cell_type": "markdown",
      "metadata": {
        "id": "lMxsJdnAKID2"
      },
      "source": [
        "### APPLYING DIFFERENT ALGORITHMS"
      ]
    },
    {
      "cell_type": "code",
      "execution_count": null,
      "metadata": {
        "colab": {
          "background_save": true
        },
        "id": "Mfp5FCzaKID3"
      },
      "outputs": [],
      "source": [
        "from sklearn.linear_model import LogisticRegression\n",
        "from xgboost import XGBClassifier\n",
        "from sklearn.naive_bayes import MultinomialNB\n",
        "from sklearn.neighbors import KNeighborsClassifier\n",
        "from sklearn.ensemble import RandomForestClassifier"
      ]
    },
    {
      "cell_type": "code",
      "execution_count": null,
      "metadata": {
        "colab": {
          "background_save": true
        },
        "id": "DC_VxFO_KID3"
      },
      "outputs": [],
      "source": [
        "lr = LogisticRegression(C=10)\n",
        "\n",
        "# Creating the model on Training Data\n",
        "\n",
        "from sklearn.multiclass import OneVsRestClassifier\n",
        "clf = OneVsRestClassifier(lr)\n",
        "model=clf.fit(x_train,y_train)\n",
        "prediction=model.predict(x_test)\n",
        "# Printing the Overall Accuracy of the model\n",
        "from sklearn import metrics\n",
        "print(metrics.multilabel_confusion_matrix(y_test, prediction))\n",
        "F1_Score=metrics.classification_report(y_test, prediction).split()[-2]\n",
        "print('Accuracy of the model:', F1_Score)"
      ]
    },
    {
      "cell_type": "code",
      "execution_count": null,
      "metadata": {
        "colab": {
          "background_save": true
        },
        "id": "Ss6mPpHfKID3"
      },
      "outputs": [],
      "source": [
        "from sklearn.linear_model import SGDClassifier\n",
        "sgd = SGDClassifier()\n",
        "from sklearn.multiclass import OneVsRestClassifier\n",
        "clf = OneVsRestClassifier(sgd)\n",
        "clf.fit(x_train, y_train)\n",
        "y_pred = clf.predict(x_test)\n",
        "print(metrics.multilabel_confusion_matrix(y_test, y_pred))\n",
        "F1_Score=metrics.classification_report(y_test, y_pred).split()[-2]\n",
        "print('Accuracy of the model:', F1_Score)"
      ]
    },
    {
      "cell_type": "code",
      "execution_count": null,
      "metadata": {
        "colab": {
          "background_save": true
        },
        "id": "ZEUFYSlL6up8"
      },
      "outputs": [],
      "source": [
        "from sklearn.svm import LinearSVC\n",
        "sv= LinearSVC()\n",
        "from sklearn.multiclass import OneVsRestClassifier\n",
        "clf = OneVsRestClassifier(sv)\n",
        "clf.fit(x_train,y_train)\n",
        "y_pred= model.predict(x_test)\n",
        "F1_Score=metrics.classification_report(y_test, prediction).split()[-2]\n",
        "print('Accuracy of the model:', F1_Score)\n"
      ]
    },
    {
      "cell_type": "markdown",
      "metadata": {
        "id": "W-VT-4JGTZO1"
      },
      "source": [
        "Implementation of model"
      ]
    },
    {
      "cell_type": "code",
      "execution_count": null,
      "metadata": {
        "colab": {
          "background_save": true
        },
        "id": "9Ne29uaIKID5"
      },
      "outputs": [],
      "source": [
        "x = [ 'how to write ml code in python and java i have data but do not know how to do it']\n",
        "xt = vectorizer.transform(x)\n",
        "clf.predict(xt)\n",
        "multilabel.inverse_transform(clf.predict(xt))"
      ]
    },
    {
      "cell_type": "code",
      "execution_count": null,
      "metadata": {
        "colab": {
          "background_save": true
        },
        "id": "srcFAnBcQKIE"
      },
      "outputs": [],
      "source": []
    }
  ],
  "metadata": {
    "colab": {
      "collapsed_sections": [],
      "provenance": []
    },
    "gpuClass": "standard",
    "kernelspec": {
      "display_name": "Python 3",
      "language": "python",
      "name": "python3"
    },
    "language_info": {
      "codemirror_mode": {
        "name": "ipython",
        "version": 3
      },
      "file_extension": ".py",
      "mimetype": "text/x-python",
      "name": "python",
      "nbconvert_exporter": "python",
      "pygments_lexer": "ipython3",
      "version": "3.7.6"
    }
  },
  "nbformat": 4,
  "nbformat_minor": 0
}